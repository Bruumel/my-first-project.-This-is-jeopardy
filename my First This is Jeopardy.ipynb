{
 "cells": [
  {
   "cell_type": "markdown",
   "metadata": {},
   "source": [
    "# This is Jeopardy!"
   ]
  },
  {
   "cell_type": "markdown",
   "metadata": {},
   "source": [
    "#### Overview"
   ]
  },
  {
   "cell_type": "markdown",
   "metadata": {},
   "source": [
    "This project is slightly different than others you have encountered thus far. Instead of a step-by-step tutorial, this project contains a series of open-ended requirements which describe the project you'll be building. There are many possible ways to correctly fulfill all of these requirements, and you should expect to use the internet, Codecademy, and/or other resources when you encounter a problem that you cannot easily solve."
   ]
  },
  {
   "cell_type": "markdown",
   "metadata": {},
   "source": [
    "#### Project Goals"
   ]
  },
  {
   "cell_type": "markdown",
   "metadata": {},
   "source": [
    "You will work to write several functions that investigate a dataset of _Jeopardy!_ questions and answers. Filter the dataset for topics that you're interested in, compute the average difficulty of those questions, and train to become the next Jeopardy champion!"
   ]
  },
  {
   "cell_type": "markdown",
   "metadata": {},
   "source": [
    "## Prerequisites"
   ]
  },
  {
   "cell_type": "markdown",
   "metadata": {},
   "source": [
    "In order to complete this project, you should have completed the Pandas lessons in the <a href=\"https://www.codecademy.com/learn/paths/analyze-data-with-python\">Analyze Data with Python Skill Path</a>. You can also find those lessons in the <a href=\"https://www.codecademy.com/learn/data-processing-pandas\">Data Analysis with Pandas course</a> or the <a href=\"https://www.codecademy.com/learn/paths/data-science/\">Data Scientist Career Path</a>.\n",
    "\n",
    "Finally, the <a href=\"https://www.codecademy.com/learn/practical-data-cleaning\">Practical Data Cleaning</a> course may also be helpful."
   ]
  },
  {
   "cell_type": "markdown",
   "metadata": {},
   "source": [
    "## Project Requirements"
   ]
  },
  {
   "cell_type": "markdown",
   "metadata": {},
   "source": [
    "1. We've provided a csv file containing data about the game show _Jeopardy!_ in a file named `jeopardy.csv`. Load the data into a DataFrame and investigate its contents. Try to print out specific columns.\n",
    "\n",
    "   Note that in order to make this project as \"real-world\" as possible, we haven't modified the data at all - we're giving it to you exactly how we found it. As a result, this data isn't as \"clean\" as the datasets you normally find on Codecademy. More specifically, there's something odd about the column names. After you figure out the problem with the column names, you may want to rename them to make your life easier for the rest of the project.\n",
    "   \n",
    "   In order to display the full contents of a column, we've added this line of code for you:\n",
    "   \n",
    "   ```py\n",
    "   pd.set_option('display.max_colwidth', None)\n",
    "   ```"
   ]
  },
  {
   "cell_type": "code",
   "execution_count": 1,
   "metadata": {},
   "outputs": [
    {
     "name": "stdout",
     "output_type": "stream",
     "text": [
      "        Show Number    Air Date             Round  \\\n",
      "0              4680  2004-12-31         Jeopardy!   \n",
      "1              4680  2004-12-31         Jeopardy!   \n",
      "2              4680  2004-12-31         Jeopardy!   \n",
      "3              4680  2004-12-31         Jeopardy!   \n",
      "4              4680  2004-12-31         Jeopardy!   \n",
      "...             ...         ...               ...   \n",
      "216925         4999  2006-05-11  Double Jeopardy!   \n",
      "216926         4999  2006-05-11  Double Jeopardy!   \n",
      "216927         4999  2006-05-11  Double Jeopardy!   \n",
      "216928         4999  2006-05-11  Double Jeopardy!   \n",
      "216929         4999  2006-05-11   Final Jeopardy!   \n",
      "\n",
      "                               Category  Value  \\\n",
      "0                               HISTORY   $200   \n",
      "1       ESPN's TOP 10 ALL-TIME ATHLETES   $200   \n",
      "2           EVERYBODY TALKS ABOUT IT...   $200   \n",
      "3                      THE COMPANY LINE   $200   \n",
      "4                   EPITAPHS & TRIBUTES   $200   \n",
      "...                                 ...    ...   \n",
      "216925                   RIDDLE ME THIS  $2000   \n",
      "216926                        \"T\" BIRDS  $2000   \n",
      "216927           AUTHORS IN THEIR YOUTH  $2000   \n",
      "216928                       QUOTATIONS  $2000   \n",
      "216929                   HISTORIC NAMES    NaN   \n",
      "\n",
      "                                                                                                                      Question  \\\n",
      "0                             For the last 8 years of his life, Galileo was under house arrest for espousing this man's theory   \n",
      "1                  No. 2: 1912 Olympian; football star at Carlisle Indian School; 6 MLB seasons with the Reds, Giants & Braves   \n",
      "2                                     The city of Yuma in this state has a record average of 4,055 hours of sunshine each year   \n",
      "3                                         In 1963, live on \"The Art Linkletter Show\", this company served its billionth burger   \n",
      "4                     Signer of the Dec. of Indep., framer of the Constitution of Mass., second President of the United States   \n",
      "...                                                                                                                        ...   \n",
      "216925                                              This Puccini opera turns on the solution to 3 riddles posed by the heroine   \n",
      "216926                 In North America this term is properly applied to only 4 species that are crested, including the tufted   \n",
      "216927               In Penny Lane, where this \"Hellraiser\" grew up, the barber shaves another customer--then flays him alive!   \n",
      "216928  From Ft. Sill, Okla. he made the plea, Arizona is my land, my home, my father's land, to which I now ask to... return\"   \n",
      "216929                 A silent movie title includes the last name of this 18th c. statesman & favorite of Catherine the Great   \n",
      "\n",
      "                                Answer  \n",
      "0                           Copernicus  \n",
      "1                           Jim Thorpe  \n",
      "2                              Arizona  \n",
      "3                           McDonald's  \n",
      "4                           John Adams  \n",
      "...                                ...  \n",
      "216925                        Turandot  \n",
      "216926                      a titmouse  \n",
      "216927                    Clive Barker  \n",
      "216928                        Geronimo  \n",
      "216929  Grigori Alexandrovich Potemkin  \n",
      "\n",
      "[216930 rows x 7 columns]\n"
     ]
    }
   ],
   "source": [
    "import pandas as pd\n",
    "pd.set_option('display.max_colwidth', None)\n",
    "jeopardy_df = pd.read_csv('jeopardy.csv')\n",
    "print(jeopardy_df)"
   ]
  },
  {
   "cell_type": "markdown",
   "metadata": {},
   "source": [
    "2. Write a function that filters the dataset for questions that contains all of the words in a list of words. For example, when the list `[\"King\", \"England\"]` was passed to our function, the function returned a DataFrame of 49 rows. Every row had the strings `\"King\"` and `\"England\"` somewhere in its `\" Question\"`.\n",
    "\n",
    "   Test your function by printing out the column containing the question of each row of the dataset."
   ]
  },
  {
   "cell_type": "code",
   "execution_count": 2,
   "metadata": {},
   "outputs": [
    {
     "name": "stdout",
     "output_type": "stream",
     "text": [
      "40        <a href=\"http://www.j-archive.com/media/2004-12-31_DJ_26.mp3\">Ripped from today's headlines, he was a turtle king gone mad; Mack was the one good turtle who'd bring him down</a>\n",
      "50                      <a href=\"http://www.j-archive.com/media/2004-12-31_DJ_24.mp3\">\"500 Hats\"... 500 ways to die.  On July 4th, this young boy will defy a king... & become a legend</a>\n",
      "56                                                                                                                                           It's the largest kingdom in the United Kingdom\n",
      "177                                                                                                                                   It's the kingdom whose flag is seen here (Union Jack)\n",
      "399                                                                                                                     Between 1842 & 1885, he repeatedly revised his \"Idylls of the King\"\n",
      "                                                                                                ...                                                                                        \n",
      "216744                                                                                                                                      French kings Francis II, Charles IX & Henry III\n",
      "216752                                                                         Upon signing his name in 1776 he said, \"There, King George will be able to read that without his spectacles\"\n",
      "216777                                                                   The first one of these tombs was built about 2650 B.C. by Imhotep for King Zoser & rose about 200 feet using steps\n",
      "216787                                                                                     A Hoffmann tale title lost the words \"And The Mouse King\" when it became this Tchaikovsky ballet\n",
      "216789                                                                                   This kingdom of England grew from 2 settlements, one founded around 495 by Cerdic & his son Cynric\n",
      "Name:  Question, Length: 2952, dtype: object\n"
     ]
    }
   ],
   "source": [
    "def word_finder(word_list, jeopardy_df):\n",
    "    matching_rows = []\n",
    "\n",
    "    for index, row in jeopardy_df.iterrows():\n",
    "         if all(word.lower() in row[' Question'].lower() for word in word_list):\n",
    "            matching_rows.append(row)\n",
    "    \n",
    "    matching_df = pd.DataFrame(matching_rows)\n",
    "\n",
    "    return matching_df\n",
    "\n",
    "word_list = [' king' ]\n",
    "matching_questions_df = word_finder(word_list, jeopardy_df)\n",
    "\n",
    "if not matching_questions_df.empty: \n",
    "    print(matching_questions_df[' Question'])\n",
    "else: \n",
    "    print('No matching questions found')\n",
    "\n"
   ]
  },
  {
   "cell_type": "markdown",
   "metadata": {},
   "source": [
    "3. Test your original function with a few different sets of words to try to find some ways your function breaks. Edit your function so it is more robust.\n",
    "\n",
    "   For example, think about capitalization. We probably want to find questions that contain the word `\"King\"` or `\"king\"`.\n",
    "   \n",
    "   You may also want to check to make sure you don't find rows that contain substrings of your given words. For example, our function found a question that didn't contain the word `\"king\"`, however it did contain the word `\"viking\"` &mdash; it found the `\"king\"` inside `\"viking\"`. Note that this also comes with some drawbacks &mdash; you would no longer find questions that contained words like `\"England's\"`."
   ]
  },
  {
   "cell_type": "code",
   "execution_count": 24,
   "metadata": {},
   "outputs": [
    {
     "name": "stdout",
     "output_type": "stream",
     "text": [
      "        Show Number    Air Date             Round               Category  \\\n",
      "43449          4965  2006-03-24         Jeopardy!        A LIFE OF CRIME   \n",
      "86605          5832  2010-01-12         Jeopardy!          FAMOUS SHAMUS   \n",
      "113771         3611  2000-04-24         Jeopardy!  SOUTH AMERICAN CITIES   \n",
      "136492         3033  1997-11-05         Jeopardy!          SODA POP QUIZ   \n",
      "187448         5725  2009-06-26  Double Jeopardy!         LIKE A SURGEON   \n",
      "194979         4758  2005-04-20  Double Jeopardy!             MEASURE UP   \n",
      "\n",
      "         Value  \\\n",
      "43449    200.0   \n",
      "86605    200.0   \n",
      "113771   300.0   \n",
      "136492   100.0   \n",
      "187448  1600.0   \n",
      "194979  1200.0   \n",
      "\n",
      "                                                                                                                                                                                                                                                                                   Question  \\\n",
      "43449                                                                                                                                                                                          One of the most famous fictional crimesolvers ever, he also played the violin & used cocaine   \n",
      "86605                                                                                                                                                                                         This 19th century character was known for his pipe smoking, violin playing & even cocaine use   \n",
      "113771                                                                                                                                                                                                 In the 1980s this city became the center for Colombia's most powerful cocaine cartel   \n",
      "136492                                                                                                                                                                                                         This ubiquitous soft drink removed its cocaine by 1905 but kept the caffeine   \n",
      "187448                                                                                                                                                                                     William Halsted developed a cocaine addiction while researching new methods of this for the O.R.   \n",
      "194979  (<a href=\"http://www.j-archive.com/media/2005-04-20_DJ_28.jpg\" target=\"_blank\">Jimmy of the Clue Crew reports from JFK Airport in New York.</a>)  Each of these bricks of cocaine, seized by Homeland Security agents, weighs this metric unit & has a street value of over $15,000   \n",
      "\n",
      "                 Answer  \n",
      "43449   Sherlock Holmes  \n",
      "86605   Sherlock Holmes  \n",
      "113771         Medellin  \n",
      "136492        Coca-Cola  \n",
      "187448       anesthesia  \n",
      "194979       a kilogram  \n"
     ]
    }
   ],
   "source": []
  },
  {
   "cell_type": "markdown",
   "metadata": {},
   "source": [
    "4. We may want to eventually compute aggregate statistics, like `.mean()` on the `\" Value\"` column. But right now, the values in that column are strings. Convert the`\" Value\"` column to floats. If you'd like to, you can create a new column with float values.\n",
    "\n",
    "   Now that you can filter the dataset of question, use your new column that contains the float values of each question to find the \"difficulty\" of certain topics. For example, what is the average value of questions that contain the word `\"King\"`?\n",
    "   \n",
    "   Make sure to use the dataset that contains the float values as the dataset you use in your filtering function."
   ]
  },
  {
   "cell_type": "code",
   "execution_count": 17,
   "metadata": {},
   "outputs": [
    {
     "name": "stdout",
     "output_type": "stream",
     "text": [
      "        Show Number    Air Date             Round  \\\n",
      "0              4680  2004-12-31         Jeopardy!   \n",
      "1              4680  2004-12-31         Jeopardy!   \n",
      "2              4680  2004-12-31         Jeopardy!   \n",
      "3              4680  2004-12-31         Jeopardy!   \n",
      "4              4680  2004-12-31         Jeopardy!   \n",
      "...             ...         ...               ...   \n",
      "216925         4999  2006-05-11  Double Jeopardy!   \n",
      "216926         4999  2006-05-11  Double Jeopardy!   \n",
      "216927         4999  2006-05-11  Double Jeopardy!   \n",
      "216928         4999  2006-05-11  Double Jeopardy!   \n",
      "216929         4999  2006-05-11   Final Jeopardy!   \n",
      "\n",
      "                               Category   Value  \\\n",
      "0                               HISTORY   200.0   \n",
      "1       ESPN's TOP 10 ALL-TIME ATHLETES   200.0   \n",
      "2           EVERYBODY TALKS ABOUT IT...   200.0   \n",
      "3                      THE COMPANY LINE   200.0   \n",
      "4                   EPITAPHS & TRIBUTES   200.0   \n",
      "...                                 ...     ...   \n",
      "216925                   RIDDLE ME THIS  2000.0   \n",
      "216926                        \"T\" BIRDS  2000.0   \n",
      "216927           AUTHORS IN THEIR YOUTH  2000.0   \n",
      "216928                       QUOTATIONS  2000.0   \n",
      "216929                   HISTORIC NAMES     NaN   \n",
      "\n",
      "                                                                                                                      Question  \\\n",
      "0                             For the last 8 years of his life, Galileo was under house arrest for espousing this man's theory   \n",
      "1                  No. 2: 1912 Olympian; football star at Carlisle Indian School; 6 MLB seasons with the Reds, Giants & Braves   \n",
      "2                                     The city of Yuma in this state has a record average of 4,055 hours of sunshine each year   \n",
      "3                                         In 1963, live on \"The Art Linkletter Show\", this company served its billionth burger   \n",
      "4                     Signer of the Dec. of Indep., framer of the Constitution of Mass., second President of the United States   \n",
      "...                                                                                                                        ...   \n",
      "216925                                              This Puccini opera turns on the solution to 3 riddles posed by the heroine   \n",
      "216926                 In North America this term is properly applied to only 4 species that are crested, including the tufted   \n",
      "216927               In Penny Lane, where this \"Hellraiser\" grew up, the barber shaves another customer--then flays him alive!   \n",
      "216928  From Ft. Sill, Okla. he made the plea, Arizona is my land, my home, my father's land, to which I now ask to... return\"   \n",
      "216929                 A silent movie title includes the last name of this 18th c. statesman & favorite of Catherine the Great   \n",
      "\n",
      "                                Answer  \n",
      "0                           Copernicus  \n",
      "1                           Jim Thorpe  \n",
      "2                              Arizona  \n",
      "3                           McDonald's  \n",
      "4                           John Adams  \n",
      "...                                ...  \n",
      "216925                        Turandot  \n",
      "216926                      a titmouse  \n",
      "216927                    Clive Barker  \n",
      "216928                        Geronimo  \n",
      "216929  Grigori Alexandrovich Potemkin  \n",
      "\n",
      "[216930 rows x 7 columns]\n"
     ]
    }
   ],
   "source": [
    "jeopardy_df[' Value'] = pd.to_numeric(jeopardy_df[' Value'].str.replace('$', '').str.replace(',', ''), errors='coerce').astype(float)\n",
    "\n",
    "print(jeopardy_df)"
   ]
  },
  {
   "cell_type": "markdown",
   "metadata": {},
   "source": [
    "5. Write a function that returns the count of unique answers to all of the questions in a dataset. For example, after filtering the entire dataset to only questions containing the word `\"King\"`, we could then find all of the unique answers to those questions. The answer \"Henry VIII\" appeared 55 times and was the most common answer."
   ]
  },
  {
   "cell_type": "code",
   "execution_count": 48,
   "metadata": {},
   "outputs": [
    {
     "name": "stdout",
     "output_type": "stream",
     "text": [
      "there where a total of 127 answers. there where 96 unique answers. the most given answer is Johann Sebastian Bach, it has been given 8 times\n",
      "        Show Number    Air Date             Round                Category  \\\n",
      "6408           3010  1997-10-03         Jeopardy!               EXPLORERS   \n",
      "7155           5171  2007-02-19  Double Jeopardy!               OF \"RATH\"   \n",
      "7526           6072  2011-01-25         Jeopardy!            MEN OF MUSIC   \n",
      "7532           6072  2011-01-25         Jeopardy!            MEN OF MUSIC   \n",
      "8919           5624  2009-02-05         Jeopardy!       THE \"FIRST\" STATE   \n",
      "...             ...         ...               ...                     ...   \n",
      "212067         4349  2003-06-26  Double Jeopardy!         INVENTIVE MINDS   \n",
      "212378         1247  1990-01-23  Double Jeopardy!             NOVEL PLOTS   \n",
      "212512         5730  2009-07-03         Jeopardy!   COMPOSERS & THEIR KIN   \n",
      "212518         5730  2009-07-03         Jeopardy!   COMPOSERS & THEIR KIN   \n",
      "213175         3510  1999-12-03         Jeopardy!  INVENTORS & INVENTIONS   \n",
      "\n",
      "         Value  \\\n",
      "6408     200.0   \n",
      "7155    1200.0   \n",
      "7526     200.0   \n",
      "7532     400.0   \n",
      "8919     600.0   \n",
      "...        ...   \n",
      "212067   800.0   \n",
      "212378  1000.0   \n",
      "212512   400.0   \n",
      "212518   600.0   \n",
      "213175   200.0   \n",
      "\n",
      "                                                                                                         Question  \\\n",
      "6408    In 1848 Johannes Rebmann became the first European to see & describe \"the snows\" of this African mountain   \n",
      "7155                        For many, this Johannesburg-born actor will forever be the definitive Sherlock Holmes   \n",
      "7526         100,000 people of this city turned out for the 1849 funeral of beloved bandleader Johann Strauss Sr.   \n",
      "7532       \"King of the Waltz\" Johann Strauss Jr. wrote in other dance forms too, like the \"Tritsch-Tratsch\" this   \n",
      "8919       In 1975 Donald Johanson found a group of 13 hominid fossils he dubbed this, like the Nixons or Trumans   \n",
      "...                                                                                                           ...   \n",
      "212067                                           This office supply invented by Johann Vaaler is a real gem today   \n",
      "212378           The old priest Stephen Kumalo sadly tracks down his son in Johannesburg in this Alan Paton novel   \n",
      "212512                            His 18th child, Johann Christian, wrote operas for the King's Theatre in London   \n",
      "212518      Both the junior & senior Johanns in this Viennese family conducted dance music as well as composed it   \n",
      "213175                In 1816 Johann Nepomuk Maelzel patented this device used by musicians to keep correct tempo   \n",
      "\n",
      "                          Answer  \n",
      "6408                 Kilimanjaro  \n",
      "7155              Basil Rathbone  \n",
      "7526                      Vienna  \n",
      "7532                   the polka  \n",
      "8919            the first family  \n",
      "...                          ...  \n",
      "212067                paper clip  \n",
      "212378  Cry, the Beloved Country  \n",
      "212512     Johann Sebastian Bach  \n",
      "212518                   Strauss  \n",
      "213175                 Metronome  \n",
      "\n",
      "[127 rows x 7 columns]\n"
     ]
    }
   ],
   "source": [
    "def unique_answers(question_word, jeopardy_df):\n",
    "    question_word_df = word_finder(question_word, jeopardy_df)\n",
    "    \n",
    "    count_answers = len(question_word_df[' Answer'])\n",
    "    count_unique_answers = question_word_df[' Answer'].nunique()\n",
    "    answer_counts = question_word_df[' Answer'].value_counts()\n",
    "    most_given_answer = answer_counts.idxmax()\n",
    "    amount_given_answer = answer_counts.max()\n",
    "\n",
    "\n",
    "    print(f\"there where a total of {count_answers} answers. there where {count_unique_answers} unique answers. the most given answer is {most_given_answer}, it has been given {amount_given_answer} times\")\n",
    "    return question_word_df\n",
    "\n",
    "\n",
    "result = unique_answers(['johan'], jeopardy_df)\n",
    "print(result)"
   ]
  },
  {
   "cell_type": "markdown",
   "metadata": {},
   "source": [
    "6. Explore from here! This is an incredibly rich dataset, and there are so many interesting things to discover. There are a few columns that we haven't even started looking at yet. Here are some ideas on ways to continue working with this data:\n",
    "\n",
    " * Investigate the ways in which questions change over time by filtering by the date. How many questions from the 90s use the word `\"Computer\"` compared to questions from the 2000s?\n",
    " * Is there a connection between the round and the category? Are you more likely to find certain categories, like `\"Literature\"` in Single Jeopardy or Double Jeopardy?\n",
    " * Build a system to quiz yourself. Grab random questions, and use the <a href=\"https://docs.python.org/3/library/functions.html#input\">input</a> function to get a response from the user. Check to see if that response was right or wrong."
   ]
  },
  {
   "cell_type": "code",
   "execution_count": 50,
   "metadata": {},
   "outputs": [
    {
     "name": "stdout",
     "output_type": "stream",
     "text": [
      "        Show Number    Air Date             Round            Category   Value  \\\n",
      "358            2825  1996-12-06         Jeopardy!  AMERICAN EXPLORERS   100.0   \n",
      "359            2825  1996-12-06         Jeopardy!   MEASURING DEVICES   100.0   \n",
      "360            2825  1996-12-06         Jeopardy!           MYTHOLOGY   100.0   \n",
      "361            2825  1996-12-06         Jeopardy!          TELEVISION   100.0   \n",
      "362            2825  1996-12-06         Jeopardy!       ANNUAL EVENTS   100.0   \n",
      "...             ...         ...               ...                 ...     ...   \n",
      "216624         2046  1993-06-28  Double Jeopardy!     BIBLICAL PEOPLE  1000.0   \n",
      "216625         2046  1993-06-28  Double Jeopardy!              AWARDS  1000.0   \n",
      "216626         2046  1993-06-28  Double Jeopardy!     WORLD GEOGRAPHY  1000.0   \n",
      "216627         2046  1993-06-28  Double Jeopardy!      POETS & POETRY   500.0   \n",
      "216628         2046  1993-06-28   Final Jeopardy!    GODS & GODDESSES     NaN   \n",
      "\n",
      "                                                                                                     Question  \\\n",
      "358                          Edward Beale brought news of this 1848 discovery in California to the east coast   \n",
      "359                                       The amount of this in a solution can be measured by a saccharometer   \n",
      "360                                              Daedalus used this substance to fasten the wings to his back   \n",
      "361                                    This Sunday night series is subtitled \"The New Adventures of Superman\"   \n",
      "362       This state's Days of '47 Festival honors the day Brigham Young reached the Salt Lake Valley in 1847   \n",
      "...                                                                                                       ...   \n",
      "216624                                The original name of this man, thrown in the fiery furnace, was Azariah   \n",
      "216625  In 1962 this \"Father of the Hydrogen Bomb\" was given the Fermi Award for achievement in Atomic Energy   \n",
      "216626                          Denmark's highest point, Yding Skovhoj, rises only 568 feet on this peninsula   \n",
      "216627              Before he died this poet requested that \"Crossing the Bar\" appear last in his collections   \n",
      "216628     Augustus Caesar encouraged the worship of this god who was considered the avenger of Julius Caesar   \n",
      "\n",
      "               Answer  \n",
      "358              gold  \n",
      "359             sugar  \n",
      "360               wax  \n",
      "361      Lois & Clark  \n",
      "362              Utah  \n",
      "...               ...  \n",
      "216624       Abednego  \n",
      "216625  Edward Teller  \n",
      "216626        Jutland  \n",
      "216627       Tennyson  \n",
      "216628           Mars  \n",
      "\n",
      "[64853 rows x 7 columns]         Show Number    Air Date             Round  \\\n",
      "0              4680  2004-12-31         Jeopardy!   \n",
      "1              4680  2004-12-31         Jeopardy!   \n",
      "2              4680  2004-12-31         Jeopardy!   \n",
      "3              4680  2004-12-31         Jeopardy!   \n",
      "4              4680  2004-12-31         Jeopardy!   \n",
      "...             ...         ...               ...   \n",
      "216925         4999  2006-05-11  Double Jeopardy!   \n",
      "216926         4999  2006-05-11  Double Jeopardy!   \n",
      "216927         4999  2006-05-11  Double Jeopardy!   \n",
      "216928         4999  2006-05-11  Double Jeopardy!   \n",
      "216929         4999  2006-05-11   Final Jeopardy!   \n",
      "\n",
      "                               Category   Value  \\\n",
      "0                               HISTORY   200.0   \n",
      "1       ESPN's TOP 10 ALL-TIME ATHLETES   200.0   \n",
      "2           EVERYBODY TALKS ABOUT IT...   200.0   \n",
      "3                      THE COMPANY LINE   200.0   \n",
      "4                   EPITAPHS & TRIBUTES   200.0   \n",
      "...                                 ...     ...   \n",
      "216925                   RIDDLE ME THIS  2000.0   \n",
      "216926                        \"T\" BIRDS  2000.0   \n",
      "216927           AUTHORS IN THEIR YOUTH  2000.0   \n",
      "216928                       QUOTATIONS  2000.0   \n",
      "216929                   HISTORIC NAMES     NaN   \n",
      "\n",
      "                                                                                                                      Question  \\\n",
      "0                             For the last 8 years of his life, Galileo was under house arrest for espousing this man's theory   \n",
      "1                  No. 2: 1912 Olympian; football star at Carlisle Indian School; 6 MLB seasons with the Reds, Giants & Braves   \n",
      "2                                     The city of Yuma in this state has a record average of 4,055 hours of sunshine each year   \n",
      "3                                         In 1963, live on \"The Art Linkletter Show\", this company served its billionth burger   \n",
      "4                     Signer of the Dec. of Indep., framer of the Constitution of Mass., second President of the United States   \n",
      "...                                                                                                                        ...   \n",
      "216925                                              This Puccini opera turns on the solution to 3 riddles posed by the heroine   \n",
      "216926                 In North America this term is properly applied to only 4 species that are crested, including the tufted   \n",
      "216927               In Penny Lane, where this \"Hellraiser\" grew up, the barber shaves another customer--then flays him alive!   \n",
      "216928  From Ft. Sill, Okla. he made the plea, Arizona is my land, my home, my father's land, to which I now ask to... return\"   \n",
      "216929                 A silent movie title includes the last name of this 18th c. statesman & favorite of Catherine the Great   \n",
      "\n",
      "                                Answer  \n",
      "0                           Copernicus  \n",
      "1                           Jim Thorpe  \n",
      "2                              Arizona  \n",
      "3                           McDonald's  \n",
      "4                           John Adams  \n",
      "...                                ...  \n",
      "216925                        Turandot  \n",
      "216926                      a titmouse  \n",
      "216927                    Clive Barker  \n",
      "216928                        Geronimo  \n",
      "216929  Grigori Alexandrovich Potemkin  \n",
      "\n",
      "[152077 rows x 7 columns]\n"
     ]
    }
   ],
   "source": [
    "before_2000_df = jeopardy_df[jeopardy_df[' Air Date'] < '2000-01-01']\n",
    "after_2000_df = jeopardy_df[jeopardy_df[' Air Date'] >= '2000-01-01']\n",
    "print(before_2000_df, after_2000_df)"
   ]
  },
  {
   "cell_type": "markdown",
   "metadata": {},
   "source": [
    "## Solution"
   ]
  },
  {
   "cell_type": "markdown",
   "metadata": {},
   "source": [
    "7. Compare your program to our <a href=\"https://content.codecademy.com/PRO/independent-practice-projects/jeopardy/jeopardy_solution.zip\">sample solution code</a> - remember, that your program might look different from ours (and probably will) and that's okay!"
   ]
  },
  {
   "cell_type": "markdown",
   "metadata": {},
   "source": [
    "8. Great work! Visit <a href=\"https://discuss.codecademy.com/t/this-is-jeopardy-challenge-project-python-pandas/462365\">our forums</a> to compare your project to our sample solution code. You can also learn how to host your own solution on GitHub so you can share it with other learners! Your solution might look different from ours, and that's okay! There are multiple ways to solve these projects, and you'll learn more by seeing others' code."
   ]
  },
  {
   "cell_type": "code",
   "execution_count": null,
   "metadata": {},
   "outputs": [],
   "source": []
  }
 ],
 "metadata": {
  "kernelspec": {
   "display_name": "Python 3 (ipykernel)",
   "language": "python",
   "name": "python3"
  },
  "language_info": {
   "codemirror_mode": {
    "name": "ipython",
    "version": 3
   },
   "file_extension": ".py",
   "mimetype": "text/x-python",
   "name": "python",
   "nbconvert_exporter": "python",
   "pygments_lexer": "ipython3",
   "version": "3.11.4"
  }
 },
 "nbformat": 4,
 "nbformat_minor": 2
}
